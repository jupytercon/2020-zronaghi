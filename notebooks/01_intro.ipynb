{
 "cells": [
  {
   "cell_type": "markdown",
   "metadata": {},
   "source": [
    "<img src=\"../images/rapids_logo.png\" width=\"500\">"
   ]
  },
  {
   "cell_type": "markdown",
   "metadata": {},
   "source": [
    "# Accelerating Data Science Workflows with RAPIDS"
   ]
  },
  {
   "cell_type": "markdown",
   "metadata": {},
   "source": [
    "In this workshop you will use RAPIDS, a platform enabling end to end GPU-accelerated data science, to perform accelerated data manipulation, accelerated machine learning, and, in the service of solving a real world problem."
   ]
  },
  {
   "cell_type": "markdown",
   "metadata": {},
   "source": [
    "## [GPU-Accelerated Data Manipulation](https://github.com/rapidsai/cudf)"
   ]
  },
  {
   "cell_type": "markdown",
   "metadata": {},
   "source": [
    "In these notebooks you will interact with several data sets to transform UK population data in preparation for a variety of machine learning algorithms."
   ]
  },
  {
   "cell_type": "markdown",
   "metadata": {},
   "source": [
    "## [GPU-Accelerated Machine Learning](https://github.com/rapidsai/cuml)"
   ]
  },
  {
   "cell_type": "markdown",
   "metadata": {},
   "source": [
    "In these notebooks you will utilize a variety of machine learning algorithms - K-means, DBSCAN, and XGBoost - to analyze ideal supply locations, clusters of infected people, and probabilities of infection."
   ]
  },
  {
   "cell_type": "markdown",
   "metadata": {},
   "source": [
    "## Project: Save the UK"
   ]
  },
  {
   "cell_type": "markdown",
   "metadata": {},
   "source": [
    "In the final notebook you will utilize many of the techniques you have learned to identify clusters of infected people spread throughout the UK."
   ]
  },
  {
   "cell_type": "markdown",
   "metadata": {},
   "source": [
    "## Available GPU Accelerators"
   ]
  },
  {
   "cell_type": "markdown",
   "metadata": {},
   "source": [
    "We can use these interactive cells to run shell commands by prefixing them with `!`. For example, execute the following cell to run the shell command `nvidia-smi`, which will print information about your environment's available GPU, its current memory usage, and any processes currently utilizing it:"
   ]
  },
  {
   "cell_type": "code",
   "execution_count": null,
   "metadata": {},
   "outputs": [],
   "source": [
    "!nvidia-smi"
   ]
  },
  {
   "cell_type": "markdown",
   "metadata": {},
   "source": [
    "As you can see almost no GPU memory is being used right now, and, there are no active processes utilizing the GPU. Throughout the lab you can use this command to keep an eye on memory usage. As a general rule of thumb when doing data analysis on the GPU, we try to keep about half the GPU memory free for operations which will expand the data stored on the GPU device."
   ]
  },
  {
   "cell_type": "markdown",
   "metadata": {},
   "source": [
    "## Download Dataset"
   ]
  },
  {
   "cell_type": "code",
   "execution_count": null,
   "metadata": {},
   "outputs": [],
   "source": [
    "!wget https://github.com/jupytercon/2020-zronaghi/blob/master/data/data_pop.csv?raw=true -O ../data/data_pop.csv"
   ]
  },
  {
   "cell_type": "markdown",
   "metadata": {},
   "source": [
    "## Table of Contents"
   ]
  },
  {
   "cell_type": "markdown",
   "metadata": {},
   "source": [
    "**01_intro.ipynb**: This notebook.\n",
    "\n",
    "**02_cudf_basics.ipynb**: Begin learning GPU-accelerated dataframe manipulation with cuDF.\n",
    "\n",
    "**03_cudf_group_sort.ipynb**: Learn more advanced cuDF operations and visualize the population data.\n",
    "\n",
    "**04_cuml_k-means.ipynb**: Optimize supply depot locations.\n",
    "\n",
    "**05_xgboost.ipynb**: Estimate probability of infection for population members.\n",
    "\n",
    "**06_final_exercise.ipynb:** Find dense clusters of infected individuals spread throughout the UK."
   ]
  }
 ],
 "metadata": {
  "kernelspec": {
   "display_name": "Python 3",
   "language": "python",
   "name": "python3"
  },
  "language_info": {
   "codemirror_mode": {
    "name": "ipython",
    "version": 3
   },
   "file_extension": ".py",
   "mimetype": "text/x-python",
   "name": "python",
   "nbconvert_exporter": "python",
   "pygments_lexer": "ipython3",
   "version": "3.7.1"
  }
 },
 "nbformat": 4,
 "nbformat_minor": 4
}
